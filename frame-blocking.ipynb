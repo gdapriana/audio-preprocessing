{
 "cells": [
  {
   "cell_type": "code",
   "id": "initial_id",
   "metadata": {
    "collapsed": true,
    "ExecuteTime": {
     "end_time": "2024-10-27T06:56:21.734451Z",
     "start_time": "2024-10-27T06:56:21.614516Z"
    }
   },
   "source": "import numpy as np",
   "outputs": [],
   "execution_count": 1
  },
  {
   "metadata": {},
   "cell_type": "code",
   "outputs": [],
   "execution_count": null,
   "source": [
    "def framing(sig, fs=16000, win_len=0.025, win_hop=0.01):\n",
    "    frame_length = win_len * fs\n",
    "    frame_step = win_hop * fs\n",
    "    signal_length = len(sig)\n",
    "    frames_overlap = frame_length - frame_step\n",
    "    \n",
    "    num_frames = np.abs(signal_length - frames_overlap)\n",
    "    rest_samples = np.abs(signal_length - frames_overlap)\n",
    "    \n",
    "    if rest_samples != 0:\n",
    "        pad_signal_length = int(frame_step - rest_samples)\n",
    "        z = np.zeros(pad_signal_length)\n",
    "        pad_signal = np.append(sig, z)\n",
    "        num_frames += 1\n",
    "    else:\n",
    "        pad_signal = sig\n",
    "        \n",
    "    frame_length = int(frame_length)\n",
    "    frame_step = int(frame_step)\n",
    "    num_frames = int(num_frames)\n",
    "    \n",
    "    idx1 = np.tile(np.arange(0, frame_length), (num_frames, 1))\n",
    "    idx2 = np.tile(np.arange(0, num_frames * frame_step, frame_step), (frame_length, 1)).T\n",
    "    indices = idx1 + idx2\n",
    "    frames = pad_signal[indices.astype(np.int32, copy=False)]\n",
    "    return frames"
   ],
   "id": "2b0586a87b05faeb"
  },
  {
   "metadata": {},
   "cell_type": "code",
   "outputs": [],
   "execution_count": null,
   "source": "",
   "id": "fd55b4c51a2094d6"
  }
 ],
 "metadata": {
  "kernelspec": {
   "display_name": "Python 3",
   "language": "python",
   "name": "python3"
  },
  "language_info": {
   "codemirror_mode": {
    "name": "ipython",
    "version": 2
   },
   "file_extension": ".py",
   "mimetype": "text/x-python",
   "name": "python",
   "nbconvert_exporter": "python",
   "pygments_lexer": "ipython2",
   "version": "2.7.6"
  }
 },
 "nbformat": 4,
 "nbformat_minor": 5
}
