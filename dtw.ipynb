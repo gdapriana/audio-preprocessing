{
 "cells": [
  {
   "cell_type": "code",
   "id": "initial_id",
   "metadata": {
    "collapsed": true,
    "ExecuteTime": {
     "end_time": "2024-10-20T16:26:38.640412Z",
     "start_time": "2024-10-20T16:26:38.252623Z"
    }
   },
   "source": [
    "import numpy as np\n",
    "import pandas as pd"
   ],
   "outputs": [],
   "execution_count": 1
  },
  {
   "metadata": {
    "ExecuteTime": {
     "end_time": "2024-10-20T16:27:18.092088Z",
     "start_time": "2024-10-20T16:27:18.083946Z"
    }
   },
   "cell_type": "code",
   "source": [
    "def dtw(series_1, series_2, norm_func=np.linalg.norm):\n",
    "\n",
    "    # inisiasi matrix kosong\n",
    "    matrix = np.zeros((len(series_1) + 1, len(series_2) + 1))\n",
    "    matrix[0,:] = np.inf\n",
    "    matrix[:,0] = np.inf\n",
    "    matrix[0,0] = 0\n",
    "\n",
    "    # mengisi matrix\n",
    "    for i, vec1 in enumerate(series_1):\n",
    "        for j, vec2 in enumerate(series_2):\n",
    "            cost = norm_func(vec1 - vec2)\n",
    "            matrix[i + 1, j + 1] = cost + min(matrix[i, j + 1], matrix[i + 1, j], matrix[i, j])\n",
    "\n",
    "    # mencari minimum cost\n",
    "    i, j = len(series_1), len(series_2)\n",
    "    minimum_cost = [matrix[i, j]]\n",
    "\n",
    "    while i > 0 or j > 0:\n",
    "        neighbors = []\n",
    "        if i > 0:\n",
    "            neighbors.append((matrix[i-1][j], i-1, j))\n",
    "        if j > 0:\n",
    "            neighbors.append((matrix[i][j-1], i, j-1))\n",
    "        if i > 0 and j > 0:\n",
    "            neighbors.append((matrix[i-1][j-1], i-1, j-1))\n",
    "        _, new_i, new_j = min(neighbors)\n",
    "        i, j = new_i, new_j\n",
    "        minimum_cost.append(matrix[i, j])\n",
    "\n",
    "    return sum(minimum_cost)/len(minimum_cost)"
   ],
   "id": "2a14e56f99bcf724",
   "outputs": [],
   "execution_count": 2
  },
  {
   "metadata": {
    "ExecuteTime": {
     "end_time": "2024-10-20T16:27:47.074052Z",
     "start_time": "2024-10-20T16:27:47.068624Z"
    }
   },
   "cell_type": "code",
   "source": [
    "series_1 = [0,2,0,1,0,0]\n",
    "series_2 = [0,0,0,0.5,2,0,1,0]\n",
    "series_3 = [0,0,0,0.5,2,0,1,0]"
   ],
   "id": "9027e06b770a046",
   "outputs": [],
   "execution_count": 3
  },
  {
   "metadata": {
    "ExecuteTime": {
     "end_time": "2024-10-20T16:28:07.642103Z",
     "start_time": "2024-10-20T16:28:07.634283Z"
    }
   },
   "cell_type": "code",
   "source": "dtw(series_2, series_3)",
   "id": "6165c6aac75a9e65",
   "outputs": [
    {
     "data": {
      "text/plain": [
       "0.0"
      ]
     },
     "execution_count": 5,
     "metadata": {},
     "output_type": "execute_result"
    }
   ],
   "execution_count": 5
  }
 ],
 "metadata": {
  "kernelspec": {
   "display_name": "Python 3",
   "language": "python",
   "name": "python3"
  },
  "language_info": {
   "codemirror_mode": {
    "name": "ipython",
    "version": 2
   },
   "file_extension": ".py",
   "mimetype": "text/x-python",
   "name": "python",
   "nbconvert_exporter": "python",
   "pygments_lexer": "ipython2",
   "version": "2.7.6"
  }
 },
 "nbformat": 4,
 "nbformat_minor": 5
}
